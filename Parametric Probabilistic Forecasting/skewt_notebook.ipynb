{
 "cells": [
  {
   "cell_type": "markdown",
   "id": "74b44ceb",
   "metadata": {},
   "source": [
    "# Argus‑style Possibility Curves for MATIF Rapeseed\n",
    "This notebook demonstrates how to model full predictive distributions using a 4-parameter skewed-t model."
   ]
  }
 ],
 "metadata": {},
 "nbformat": 4,
 "nbformat_minor": 5
}
