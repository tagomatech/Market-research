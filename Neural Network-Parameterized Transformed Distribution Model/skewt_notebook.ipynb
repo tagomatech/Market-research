{
  "cells": [
    {
      "cell_type": "markdown",
      "metadata": {},
      "source": [
        "### LaTeX Test\n",
        "\n",
        "1. **Inline Math (should work):** $a^2 + b^2 = c^2$\n",
        "\n",
        "2. **Display Math with $$ (most common, should work):**\n",
        "$$\n",
        "\\\\int_0^1 x^2 \\\\,dx = \\\\frac{1}{3}\n",
        "$$\n",
        "\n",
        "3. **Display Math with \\[ \\] (less common on GitHub, might not work without $$):**\n",
        "\\\\[\n",
        "\\\\sum_{i=1}^n i = \\\\frac{n(n+1)}{2}\n",
        "\\\\]\n",
        "\n",
        "4. **Command Test (should show 'Hello' in bold italic):** \\\\textbf{\\\\textit{Hello}} World\n",
        "\n",
        "5. **Newlines in aligned (should produce 2 lines):**\n",
        "$$\n",
        "\\\\begin{aligned}\n",
        "x &= 1 \\\\\\\\\n",
        "y &= 2\n",
        "\\\\end{aligned}\n",
        "$$\n"
      ]
    }
  ],
  "metadata": {
    "kernelspec": {
      "display_name": "Python 3",
      "language": "python",
      "name": "python3"
    },
    "language_info": {
      "name": "python",
      "version": "3.11"
    }
  },
  "nbformat": 4,
  "nbformat_minor": 5
}
