{
 "cells": [
  {
   "cell_type": "markdown",
   "metadata": {},
   "source": [
    "# Argus‑style Possibility Curves for MATIF Rapeseed – Research Notebook  🛠️📈\n",
    "\n",
    "This notebook walks through **end‑to‑end construction, training and evaluation** of a 4‑parameter skew‑t Possibility‑Curve model:\n",
    "\n",
    "1. **Concept primer** – what APCs are and why skew‑t.\n",
    "2. **Data prep** – rolling front‑month futures & feature engineering helpers.\n",
    "3. **Model code** – TensorFlow Probability network predicting (μ, σ, ν, τ).\n",
    "4. **Training loop** – external Python loop for full transparency & logging.\n",
    "5. **Diagnostics** – quantile bands, PIT histogram, skew/tail dynamics.\n",
    "\n",
    "> 💡  *Every code block is followed by dual comments:* business reasoning and implementation insights.\n",
    "\n",
    "🟡 **This notebook does in‑sample exploration only**. Out‑of‑sample scoring comes next."
   ]
  },
  {
   "cell_type": "code",
   "execution_count": null,
   "metadata": {},
   "outputs": [],
   "source": [
    "import tensorflow as tf\n",
    "import tensorflow_probability as tfp\n",
    "import numpy as np\n",
    "import pandas as pd\n",
    "import matplotlib.pyplot as plt\n",
    "\n",
    "tfd, tfb = tfp.distributions, tfp.bijectors"
   ]
  },
  {
   "cell_type": "markdown",
   "metadata": {},
   "source": [
    "## 1️⃣  Data Preparation"
   ]
  },
  {
   "cell_type": "code",
   "execution_count": null,
   "metadata": {},
   "outputs": [],
   "source": [
    "# y = target, X = features (from df_4_params)\n",
    "y_raw = df_4_params[\"close_rolled\"].values.astype(\"float32\")\n",
    "X_raw = df_4_params[[\"sma_20\", \"sma_50\", \"rsi_14\", \"atr_14\", \"bb_pct\", \"z_score\"]].values.astype(\"float32\")\n",
    "y_mean, y_std = y_raw.mean(), y_raw.std()\n",
    "y_z = ((y_raw - y_mean) / y_std).reshape(-1, 1)\n",
    "norm = tf.keras.layers.Normalization(); norm.adapt(X_raw)"
   ]
  },
  {
   "cell_type": "markdown",
   "metadata": {},
   "source": [
    "## 2️⃣  Model Definition – μ, σ, ν, τ network"
   ]
  },
  {
   "cell_type": "code",
   "execution_count": null,
   "metadata": {},
   "outputs": [],
   "source": [
    "class APCSkewTModel(tf.keras.Model):\n",
    "    def __init__(self, hidden=32):\n",
    "        super().__init__()\n",
    "        self.norm = norm\n",
    "        self.d1 = tf.keras.layers.Dense(hidden, activation=\"relu\")\n",
    "        self.d2 = tf.keras.layers.Dense(hidden, activation=\"relu\")\n",
    "        self.mu = tf.keras.layers.Dense(1)\n",
    "        self.log_s = tf.keras.layers.Dense(1, bias_initializer=tf.constant_initializer(np.log(1.)))\n",
    "        self.skew_h = tf.keras.layers.Dense(1)\n",
    "        self.log_t = tf.keras.layers.Dense(1, bias_initializer=tf.constant_initializer(np.log(1.)))\n",
    "\n",
    "    def call(self, x):\n",
    "        x = self.norm(x)\n",
    "        h = self.d2(self.d1(x))\n",
    "        mu = self.mu(h)\n",
    "        sigma = tf.exp(self.log_s(h))\n",
    "        skew = 5.0 * tf.tanh(self.skew_h(h))\n",
    "        tail = tf.exp(self.log_t(h))\n",
    "        return mu, sigma, skew, tail"
   ]
  },
  {
   "cell_type": "code",
   "execution_count": null,
   "metadata": {},
   "outputs": [],
   "source": [
    "def make_dist(mu, sigma, skew, tail):\n",
    "    base = tfd.StudentT(df=3., loc=0., scale=1.)\n",
    "    return tfd.TransformedDistribution(base, tfb.Chain([\n",
    "        tfb.Shift(mu), tfb.Scale(sigma),\n",
    "        tfb.SinhArcsinh(skewness=skew, tailweight=tail)\n",
    "    ]))"
   ]
  },
  {
   "cell_type": "markdown",
   "metadata": {},
   "source": [
    "## 3️⃣  Training Loop"
   ]
  },
  {
   "cell_type": "code",
   "execution_count": null,
   "metadata": {},
   "outputs": [],
   "source": [
    "train_ds = tf.data.Dataset.from_tensor_slices((X_raw, y_z)).shuffle(500).batch(64)\n",
    "model = APCSkewTModel()\n",
    "opt = tf.keras.optimizers.Adam(1e-3)\n",
    "\n",
    "@tf.function\n",
    "def step(xb, yb):\n",
    "    with tf.GradientTape() as tape:\n",
    "        mu, s, k, t = model(xb)\n",
    "        loss = -tf.reduce_mean(make_dist(mu, s, k, t).log_prob(yb))\n",
    "    g,_ = tf.clip_by_global_norm(tape.gradient(loss, model.trainable_variables), 2.)\n",
    "    opt.apply_gradients(zip(g, model.trainable_variables))\n",
    "    return loss\n",
    "\n",
    "loss_log = []\n",
    "for ep in range(30):\n",
    "    loss_ep = np.mean([step(bx, by).numpy() for bx, by in train_ds])\n",
    "    loss_log.append(loss_ep)\n",
    "    print(f\"Epoch {ep+1:02d}: NLL {loss_ep:.4f}\")"
   ]
  },
  {
   "cell_type": "markdown",
   "metadata": {},
   "source": [
    "## 4️⃣  In‑Sample Diagnostics"
   ]
  },
  {
   "cell_type": "code",
   "execution_count": null,
   "metadata": {},
   "outputs": [],
   "source": [
    "mu, s, k, t = model(X_raw)\n",
    "dist = make_dist(mu, s, k, t)\n",
    "q = tf.stack([dist.quantile(p) for p in [0.1,0.25,0.5,0.75,0.9]], axis=-1).numpy()\n",
    "q_price = q * y_std + y_mean\n",
    "\n",
    "plt.figure(figsize=(10,5))\n",
    "plt.plot(df_4_params[\"date\"], y_raw, label=\"Actual\", lw=1)\n",
    "for i,label in enumerate([\"P10\",\"P25\",\"P50\",\"P75\",\"P90\"]):\n",
    "    plt.plot(df_4_params[\"date\"], q_price[:,i], ls=\"--\", label=label)\n",
    "plt.legend(); plt.title(\"In‑sample Quantile Bands\"); plt.grid(True); plt.show()\n",
    "\n",
    "pit = dist.cdf(y_z.flatten()).numpy()\n",
    "plt.hist(pit, bins=20, edgecolor='k'); plt.title(\"PIT Histogram\"); plt.grid(True); plt.show()"
   ]
  },
  {
   "cell_type": "markdown",
   "metadata": {},
   "source": [
    "## 5️⃣  Next Steps\n",
    "\n",
    "- 🔁 Replace in-sample with walk-forward prediction loop\n",
    "- 🔬 Loop over multiple driver universes (technical, fundamental)\n",
    "- 📊 Log PIT, quantile hit rate, tail stats per model run\n",
    "- 🖼️ Integrate with Dash UI for visual exploration and model selection\n",
    "- 🧪 Add CRPS or tail-aware scoring"
   ]
  }
 ],
 "metadata": {
  "kernelspec": {
   "display_name": "Python 3",
   "language": "python",
   "name": "python3"
  },
  "language_info": {
   "name": "python",
   "version": "3.11"
  }
 },
 "nbformat": 4,
 "nbformat_minor": 5
}
