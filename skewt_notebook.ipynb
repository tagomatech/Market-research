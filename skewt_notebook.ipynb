{
 "cells": [
  {
   "cell_type": "markdown",
   "id": "6a27da0b",
   "metadata": {},
   "source": [
    "fallback content if needed"
   ]
  }
 ],
 "metadata": {},
 "nbformat": 4,
 "nbformat_minor": 5
}
